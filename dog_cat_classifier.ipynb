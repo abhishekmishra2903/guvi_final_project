{
 "cells": [
  {
   "cell_type": "code",
   "execution_count": 1,
   "id": "3998ecc0",
   "metadata": {},
   "outputs": [],
   "source": [
    "import os\n",
    "import PIL\n",
    "import matplotlib.pyplot as plt"
   ]
  },
  {
   "cell_type": "code",
   "execution_count": 2,
   "id": "e70052f7",
   "metadata": {},
   "outputs": [],
   "source": [
    "# In this block we are creating a x_train list and appending it with records containing\n",
    "# rgb values of pixels of the train images of cats\n",
    "# due to computational constraints taking image size as 120*120\n",
    "\n",
    "from PIL import Image\n",
    "x_train=[]\n",
    "path='C:/Users/Admin/Documents/Project dog_cat/training_set/cats/'\n",
    "Agg_list=os.listdir(path)\n",
    "for i in Agg_list:\n",
    "    p_i=path+i\n",
    "    input_image = Image.open(p_i)\n",
    "    input_image = input_image.resize((120, 120))\n",
    "    list1=[]\n",
    "    for i in range(120):\n",
    "        for j in range(120):\n",
    "            list1.append(input_image.getpixel((i, j))[0])\n",
    "            list1.append(input_image.getpixel((i, j))[1])\n",
    "            list1.append(input_image.getpixel((i, j))[2])\n",
    "    x_train.append(list1)"
   ]
  },
  {
   "cell_type": "code",
   "execution_count": 3,
   "id": "c7fd6bef",
   "metadata": {},
   "outputs": [
    {
     "name": "stdout",
     "output_type": "stream",
     "text": [
      "4000\n"
     ]
    }
   ],
   "source": [
    "# checking the number of cat records added\n",
    "\n",
    "print(len(x_train))"
   ]
  },
  {
   "cell_type": "code",
   "execution_count": 4,
   "id": "2dea94da",
   "metadata": {},
   "outputs": [],
   "source": [
    "# appending the dog records in the same list\n",
    "\n",
    "path='C:/Users/Admin/Documents/Project dog_cat/training_set/dogs/'\n",
    "Agg_list=os.listdir(path)\n",
    "for i in Agg_list:\n",
    "    p_i=path+i\n",
    "    input_image = Image.open(p_i)\n",
    "    input_image = input_image.resize((120, 120))\n",
    "    list1=[]\n",
    "    for i in range(120):\n",
    "        for j in range(120):\n",
    "            list1.append(input_image.getpixel((i, j))[0])\n",
    "            list1.append(input_image.getpixel((i, j))[1])\n",
    "            list1.append(input_image.getpixel((i, j))[2])\n",
    "    x_train.append(list1)"
   ]
  },
  {
   "cell_type": "code",
   "execution_count": 5,
   "id": "4a7ea3ba",
   "metadata": {
    "scrolled": true
   },
   "outputs": [
    {
     "name": "stdout",
     "output_type": "stream",
     "text": [
      "8000\n"
     ]
    }
   ],
   "source": [
    "print(len(x_train))"
   ]
  },
  {
   "cell_type": "code",
   "execution_count": 6,
   "id": "3db944ba",
   "metadata": {},
   "outputs": [],
   "source": [
    "# since in x_train, 1st 4000 records are of cats and last 4000 of dogs. So accordingly\n",
    "# we are forming y_train with 1st 4000 entries as 0 for cat and last 4000 as 1 for dog\n",
    "\n",
    "y_train=[]\n",
    "for i in range(4000):\n",
    "    y_train.append(0)\n",
    "for i in range(4000):\n",
    "    y_train.append(1)"
   ]
  },
  {
   "cell_type": "code",
   "execution_count": 7,
   "id": "06191ea6",
   "metadata": {
    "scrolled": true
   },
   "outputs": [
    {
     "name": "stdout",
     "output_type": "stream",
     "text": [
      "8000\n"
     ]
    }
   ],
   "source": [
    "print(len(y_train))"
   ]
  },
  {
   "cell_type": "code",
   "execution_count": 8,
   "id": "cba6439b",
   "metadata": {},
   "outputs": [],
   "source": [
    "# Forming x_test on exactly same lines as x_train\n",
    "\n",
    "x_test=[]\n",
    "path='C:/Users/Admin/Documents/Project dog_cat/test_set/cats/'\n",
    "Agg_list=os.listdir(path)\n",
    "for i in Agg_list:\n",
    "    p_i=path+i\n",
    "    input_image = Image.open(p_i)\n",
    "    input_image = input_image.resize((120, 120))\n",
    "    list1=[]\n",
    "    for i in range(120):\n",
    "        for j in range(120):\n",
    "            list1.append(input_image.getpixel((i, j))[0])\n",
    "            list1.append(input_image.getpixel((i, j))[1])\n",
    "            list1.append(input_image.getpixel((i, j))[2])\n",
    "    x_test.append(list1)"
   ]
  },
  {
   "cell_type": "code",
   "execution_count": 9,
   "id": "7dc339b4",
   "metadata": {},
   "outputs": [
    {
     "name": "stdout",
     "output_type": "stream",
     "text": [
      "1000\n"
     ]
    }
   ],
   "source": [
    "# checking the number of records\n",
    "\n",
    "print(len(x_test))"
   ]
  },
  {
   "cell_type": "code",
   "execution_count": 10,
   "id": "3a278a28",
   "metadata": {},
   "outputs": [],
   "source": [
    "# appending dogs data to x_test\n",
    "\n",
    "path='C:/Users/Admin/Documents/Project dog_cat/test_set/dogs/'\n",
    "Agg_list=os.listdir(path)\n",
    "for i in Agg_list:\n",
    "    p_i=path+i\n",
    "    input_image = Image.open(p_i)\n",
    "    input_image = input_image.resize((120, 120))\n",
    "    list1=[]\n",
    "    for i in range(120):\n",
    "        for j in range(120):\n",
    "            list1.append(input_image.getpixel((i, j))[0])\n",
    "            list1.append(input_image.getpixel((i, j))[1])\n",
    "            list1.append(input_image.getpixel((i, j))[2])\n",
    "    x_test.append(list1)"
   ]
  },
  {
   "cell_type": "code",
   "execution_count": 11,
   "id": "5ec8ccc5",
   "metadata": {},
   "outputs": [
    {
     "name": "stdout",
     "output_type": "stream",
     "text": [
      "2000\n"
     ]
    }
   ],
   "source": [
    "# checking the final number of records in x_test\n",
    "\n",
    "print(len(x_test))"
   ]
  },
  {
   "cell_type": "code",
   "execution_count": 12,
   "id": "9c89b3b9",
   "metadata": {},
   "outputs": [],
   "source": [
    "# forming y_test, the way we formed y_train\n",
    "\n",
    "y_test=[]\n",
    "for i in range(1000):\n",
    "    y_test.append(0)\n",
    "for i in range(1000):\n",
    "    y_test.append(1)"
   ]
  },
  {
   "cell_type": "code",
   "execution_count": 13,
   "id": "27f2c479",
   "metadata": {},
   "outputs": [
    {
     "name": "stdout",
     "output_type": "stream",
     "text": [
      "2000\n"
     ]
    }
   ],
   "source": [
    "# checking the length of y_test\n",
    "\n",
    "print(len(y_test))"
   ]
  },
  {
   "cell_type": "code",
   "execution_count": 33,
   "id": "0a698dde",
   "metadata": {
    "scrolled": true
   },
   "outputs": [
    {
     "name": "stderr",
     "output_type": "stream",
     "text": [
      "C:\\Users\\Admin\\anaconda3\\lib\\site-packages\\sklearn\\linear_model\\_logistic.py:460: ConvergenceWarning: lbfgs failed to converge (status=1):\n",
      "STOP: TOTAL NO. of ITERATIONS REACHED LIMIT.\n",
      "\n",
      "Increase the number of iterations (max_iter) or scale the data as shown in:\n",
      "    https://scikit-learn.org/stable/modules/preprocessing.html\n",
      "Please also refer to the documentation for alternative solver options:\n",
      "    https://scikit-learn.org/stable/modules/linear_model.html#logistic-regression\n",
      "  n_iter_i = _check_optimize_result(\n"
     ]
    },
    {
     "name": "stdout",
     "output_type": "stream",
     "text": [
      "0.67625\n",
      "0.5915\n"
     ]
    }
   ],
   "source": [
    "# applying logistic regression\n",
    "\n",
    "from sklearn.linear_model import LogisticRegression\n",
    "classifier = LogisticRegression(max_iter=20)\n",
    "classifier.fit(x_train,y_train)\n",
    "print(classifier.score(x_train,y_train))\n",
    "print(classifier.score(x_test,y_test))"
   ]
  },
  {
   "cell_type": "code",
   "execution_count": 34,
   "id": "d62985f1",
   "metadata": {
    "scrolled": true
   },
   "outputs": [
    {
     "name": "stdout",
     "output_type": "stream",
     "text": [
      "              precision    recall  f1-score   support\n",
      "\n",
      "           0       0.59      0.60      0.60      1000\n",
      "           1       0.59      0.58      0.59      1000\n",
      "\n",
      "    accuracy                           0.59      2000\n",
      "   macro avg       0.59      0.59      0.59      2000\n",
      "weighted avg       0.59      0.59      0.59      2000\n",
      "\n"
     ]
    }
   ],
   "source": [
    "# checking the parameters of the result\n",
    "\n",
    "from sklearn.metrics import classification_report\n",
    "\n",
    "y_pred = classifier.predict(x_test)\n",
    "result = classification_report(y_test,y_pred)\n",
    "print (result)"
   ]
  }
 ],
 "metadata": {
  "kernelspec": {
   "display_name": "Python 3 (ipykernel)",
   "language": "python",
   "name": "python3"
  },
  "language_info": {
   "codemirror_mode": {
    "name": "ipython",
    "version": 3
   },
   "file_extension": ".py",
   "mimetype": "text/x-python",
   "name": "python",
   "nbconvert_exporter": "python",
   "pygments_lexer": "ipython3",
   "version": "3.10.12"
  }
 },
 "nbformat": 4,
 "nbformat_minor": 5
}
